{
 "cells": [
  {
   "cell_type": "markdown",
   "id": "d4805ff1",
   "metadata": {},
   "source": [
    "## Amex Hackathon"
   ]
  },
  {
   "cell_type": "code",
   "execution_count": 1,
   "id": "eb990999",
   "metadata": {},
   "outputs": [],
   "source": [
    "import os\n",
    "\n",
    "import pandas as pd\n",
    "import numpy as np"
   ]
  },
  {
   "cell_type": "code",
   "execution_count": 2,
   "id": "2a5cec3e",
   "metadata": {},
   "outputs": [
    {
     "data": {
      "text/plain": [
       "['.git',\n",
       " '.ipynb_checkpoints',\n",
       " 'Notebook.ipynb',\n",
       " 'sample_submission.csv',\n",
       " 'test.csv',\n",
       " 'train.csv']"
      ]
     },
     "execution_count": 2,
     "metadata": {},
     "output_type": "execute_result"
    }
   ],
   "source": [
    "os.listdir()"
   ]
  },
  {
   "cell_type": "code",
   "execution_count": 3,
   "id": "a5d2284d",
   "metadata": {},
   "outputs": [],
   "source": [
    "df = pd.read_csv('train.csv')"
   ]
  },
  {
   "cell_type": "code",
   "execution_count": 175,
   "id": "b0787b90",
   "metadata": {},
   "outputs": [],
   "source": [
    "def std_col_names(df):\n",
    "    df.columns = df.columns.str.lower().str.strip().str.replace(' ', '_')\n",
    "    df.rename(columns = {'product_holding_b1': 'b1','product_holding_b2': 'b2'}, inplace= True)\n",
    "    df['is_active'] = df['is_active'].astype('object')\n",
    "    return df\n",
    "df = std_col_names(df)"
   ]
  },
  {
   "cell_type": "code",
   "execution_count": 5,
   "id": "ab2ae77c",
   "metadata": {},
   "outputs": [
    {
     "data": {
      "text/html": [
       "<div>\n",
       "<style scoped>\n",
       "    .dataframe tbody tr th:only-of-type {\n",
       "        vertical-align: middle;\n",
       "    }\n",
       "\n",
       "    .dataframe tbody tr th {\n",
       "        vertical-align: top;\n",
       "    }\n",
       "\n",
       "    .dataframe thead th {\n",
       "        text-align: right;\n",
       "    }\n",
       "</style>\n",
       "<table border=\"1\" class=\"dataframe\">\n",
       "  <thead>\n",
       "    <tr style=\"text-align: right;\">\n",
       "      <th></th>\n",
       "      <th>customer_id</th>\n",
       "      <th>gender</th>\n",
       "      <th>age</th>\n",
       "      <th>vintage</th>\n",
       "      <th>is_active</th>\n",
       "      <th>city_category</th>\n",
       "      <th>customer_category</th>\n",
       "      <th>product_holding_b1</th>\n",
       "      <th>product_holding_b2</th>\n",
       "    </tr>\n",
       "  </thead>\n",
       "  <tbody>\n",
       "    <tr>\n",
       "      <th>0</th>\n",
       "      <td>CC264719</td>\n",
       "      <td>Male</td>\n",
       "      <td>41</td>\n",
       "      <td>14</td>\n",
       "      <td>0</td>\n",
       "      <td>C1</td>\n",
       "      <td>S3</td>\n",
       "      <td>['P16']</td>\n",
       "      <td>['P8']</td>\n",
       "    </tr>\n",
       "    <tr>\n",
       "      <th>1</th>\n",
       "      <td>CC209679</td>\n",
       "      <td>Female</td>\n",
       "      <td>47</td>\n",
       "      <td>14</td>\n",
       "      <td>1</td>\n",
       "      <td>C1</td>\n",
       "      <td>S2</td>\n",
       "      <td>['P13', 'P20']</td>\n",
       "      <td>['P3']</td>\n",
       "    </tr>\n",
       "    <tr>\n",
       "      <th>2</th>\n",
       "      <td>CC319633</td>\n",
       "      <td>Female</td>\n",
       "      <td>59</td>\n",
       "      <td>14</td>\n",
       "      <td>0</td>\n",
       "      <td>C2</td>\n",
       "      <td>S2</td>\n",
       "      <td>['P11']</td>\n",
       "      <td>['P00']</td>\n",
       "    </tr>\n",
       "    <tr>\n",
       "      <th>3</th>\n",
       "      <td>CC231413</td>\n",
       "      <td>Female</td>\n",
       "      <td>32</td>\n",
       "      <td>16</td>\n",
       "      <td>0</td>\n",
       "      <td>C1</td>\n",
       "      <td>S2</td>\n",
       "      <td>['P8', 'P13']</td>\n",
       "      <td>['P6']</td>\n",
       "    </tr>\n",
       "    <tr>\n",
       "      <th>4</th>\n",
       "      <td>CC259633</td>\n",
       "      <td>Male</td>\n",
       "      <td>30</td>\n",
       "      <td>15</td>\n",
       "      <td>0</td>\n",
       "      <td>C2</td>\n",
       "      <td>S3</td>\n",
       "      <td>['P16', 'P17', 'P21']</td>\n",
       "      <td>['P8', 'P12']</td>\n",
       "    </tr>\n",
       "  </tbody>\n",
       "</table>\n",
       "</div>"
      ],
      "text/plain": [
       "  customer_id  gender  age  vintage  is_active city_category  \\\n",
       "0    CC264719    Male   41       14          0            C1   \n",
       "1    CC209679  Female   47       14          1            C1   \n",
       "2    CC319633  Female   59       14          0            C2   \n",
       "3    CC231413  Female   32       16          0            C1   \n",
       "4    CC259633    Male   30       15          0            C2   \n",
       "\n",
       "  customer_category     product_holding_b1 product_holding_b2  \n",
       "0                S3                ['P16']             ['P8']  \n",
       "1                S2         ['P13', 'P20']             ['P3']  \n",
       "2                S2                ['P11']            ['P00']  \n",
       "3                S2          ['P8', 'P13']             ['P6']  \n",
       "4                S3  ['P16', 'P17', 'P21']      ['P8', 'P12']  "
      ]
     },
     "execution_count": 5,
     "metadata": {},
     "output_type": "execute_result"
    }
   ],
   "source": [
    "df.head()"
   ]
  },
  {
   "cell_type": "code",
   "execution_count": 6,
   "id": "8014ec5a",
   "metadata": {},
   "outputs": [
    {
     "data": {
      "text/html": [
       "<div>\n",
       "<style scoped>\n",
       "    .dataframe tbody tr th:only-of-type {\n",
       "        vertical-align: middle;\n",
       "    }\n",
       "\n",
       "    .dataframe tbody tr th {\n",
       "        vertical-align: top;\n",
       "    }\n",
       "\n",
       "    .dataframe thead th {\n",
       "        text-align: right;\n",
       "    }\n",
       "</style>\n",
       "<table border=\"1\" class=\"dataframe\">\n",
       "  <thead>\n",
       "    <tr style=\"text-align: right;\">\n",
       "      <th></th>\n",
       "      <th>customer_id</th>\n",
       "      <th>gender</th>\n",
       "      <th>age</th>\n",
       "      <th>vintage</th>\n",
       "      <th>is_active</th>\n",
       "      <th>city_category</th>\n",
       "      <th>customer_category</th>\n",
       "      <th>b1</th>\n",
       "      <th>b2</th>\n",
       "    </tr>\n",
       "  </thead>\n",
       "  <tbody>\n",
       "    <tr>\n",
       "      <th>0</th>\n",
       "      <td>CC264719</td>\n",
       "      <td>Male</td>\n",
       "      <td>41</td>\n",
       "      <td>14</td>\n",
       "      <td>0</td>\n",
       "      <td>C1</td>\n",
       "      <td>S3</td>\n",
       "      <td>['P16']</td>\n",
       "      <td>['P8']</td>\n",
       "    </tr>\n",
       "    <tr>\n",
       "      <th>1</th>\n",
       "      <td>CC209679</td>\n",
       "      <td>Female</td>\n",
       "      <td>47</td>\n",
       "      <td>14</td>\n",
       "      <td>1</td>\n",
       "      <td>C1</td>\n",
       "      <td>S2</td>\n",
       "      <td>['P13', 'P20']</td>\n",
       "      <td>['P3']</td>\n",
       "    </tr>\n",
       "    <tr>\n",
       "      <th>2</th>\n",
       "      <td>CC319633</td>\n",
       "      <td>Female</td>\n",
       "      <td>59</td>\n",
       "      <td>14</td>\n",
       "      <td>0</td>\n",
       "      <td>C2</td>\n",
       "      <td>S2</td>\n",
       "      <td>['P11']</td>\n",
       "      <td>['P00']</td>\n",
       "    </tr>\n",
       "    <tr>\n",
       "      <th>3</th>\n",
       "      <td>CC231413</td>\n",
       "      <td>Female</td>\n",
       "      <td>32</td>\n",
       "      <td>16</td>\n",
       "      <td>0</td>\n",
       "      <td>C1</td>\n",
       "      <td>S2</td>\n",
       "      <td>['P8', 'P13']</td>\n",
       "      <td>['P6']</td>\n",
       "    </tr>\n",
       "    <tr>\n",
       "      <th>4</th>\n",
       "      <td>CC259633</td>\n",
       "      <td>Male</td>\n",
       "      <td>30</td>\n",
       "      <td>15</td>\n",
       "      <td>0</td>\n",
       "      <td>C2</td>\n",
       "      <td>S3</td>\n",
       "      <td>['P16', 'P17', 'P21']</td>\n",
       "      <td>['P8', 'P12']</td>\n",
       "    </tr>\n",
       "  </tbody>\n",
       "</table>\n",
       "</div>"
      ],
      "text/plain": [
       "  customer_id  gender  age  vintage  is_active city_category  \\\n",
       "0    CC264719    Male   41       14          0            C1   \n",
       "1    CC209679  Female   47       14          1            C1   \n",
       "2    CC319633  Female   59       14          0            C2   \n",
       "3    CC231413  Female   32       16          0            C1   \n",
       "4    CC259633    Male   30       15          0            C2   \n",
       "\n",
       "  customer_category                     b1             b2  \n",
       "0                S3                ['P16']         ['P8']  \n",
       "1                S2         ['P13', 'P20']         ['P3']  \n",
       "2                S2                ['P11']        ['P00']  \n",
       "3                S2          ['P8', 'P13']         ['P6']  \n",
       "4                S3  ['P16', 'P17', 'P21']  ['P8', 'P12']  "
      ]
     },
     "execution_count": 6,
     "metadata": {},
     "output_type": "execute_result"
    }
   ],
   "source": [
    "df.rename(columns = {'product_holding_b1': 'b1','product_holding_b2': 'b2'}, inplace= True)\n",
    "df.head()"
   ]
  },
  {
   "cell_type": "code",
   "execution_count": 7,
   "id": "a637e086",
   "metadata": {},
   "outputs": [
    {
     "name": "stdout",
     "output_type": "stream",
     "text": [
      "<class 'pandas.core.frame.DataFrame'>\n",
      "RangeIndex: 37748 entries, 0 to 37747\n",
      "Data columns (total 9 columns):\n",
      " #   Column             Non-Null Count  Dtype \n",
      "---  ------             --------------  ----- \n",
      " 0   customer_id        37748 non-null  object\n",
      " 1   gender             37748 non-null  object\n",
      " 2   age                37748 non-null  int64 \n",
      " 3   vintage            37748 non-null  int64 \n",
      " 4   is_active          37748 non-null  int64 \n",
      " 5   city_category      37748 non-null  object\n",
      " 6   customer_category  37748 non-null  object\n",
      " 7   b1                 37748 non-null  object\n",
      " 8   b2                 37748 non-null  object\n",
      "dtypes: int64(3), object(6)\n",
      "memory usage: 2.6+ MB\n"
     ]
    }
   ],
   "source": [
    "df.info()"
   ]
  },
  {
   "cell_type": "code",
   "execution_count": 8,
   "id": "058c89eb",
   "metadata": {},
   "outputs": [
    {
     "data": {
      "text/html": [
       "<div>\n",
       "<style scoped>\n",
       "    .dataframe tbody tr th:only-of-type {\n",
       "        vertical-align: middle;\n",
       "    }\n",
       "\n",
       "    .dataframe tbody tr th {\n",
       "        vertical-align: top;\n",
       "    }\n",
       "\n",
       "    .dataframe thead th {\n",
       "        text-align: right;\n",
       "    }\n",
       "</style>\n",
       "<table border=\"1\" class=\"dataframe\">\n",
       "  <thead>\n",
       "    <tr style=\"text-align: right;\">\n",
       "      <th></th>\n",
       "      <th>age</th>\n",
       "      <th>vintage</th>\n",
       "      <th>is_active</th>\n",
       "    </tr>\n",
       "  </thead>\n",
       "  <tbody>\n",
       "    <tr>\n",
       "      <th>count</th>\n",
       "      <td>37748.000000</td>\n",
       "      <td>37748.000000</td>\n",
       "      <td>37748.000000</td>\n",
       "    </tr>\n",
       "    <tr>\n",
       "      <th>mean</th>\n",
       "      <td>38.521379</td>\n",
       "      <td>19.573169</td>\n",
       "      <td>0.264809</td>\n",
       "    </tr>\n",
       "    <tr>\n",
       "      <th>std</th>\n",
       "      <td>10.121811</td>\n",
       "      <td>10.252417</td>\n",
       "      <td>0.441237</td>\n",
       "    </tr>\n",
       "    <tr>\n",
       "      <th>min</th>\n",
       "      <td>24.000000</td>\n",
       "      <td>2.000000</td>\n",
       "      <td>0.000000</td>\n",
       "    </tr>\n",
       "    <tr>\n",
       "      <th>25%</th>\n",
       "      <td>29.000000</td>\n",
       "      <td>13.000000</td>\n",
       "      <td>0.000000</td>\n",
       "    </tr>\n",
       "    <tr>\n",
       "      <th>50%</th>\n",
       "      <td>37.000000</td>\n",
       "      <td>16.000000</td>\n",
       "      <td>0.000000</td>\n",
       "    </tr>\n",
       "    <tr>\n",
       "      <th>75%</th>\n",
       "      <td>47.000000</td>\n",
       "      <td>23.000000</td>\n",
       "      <td>1.000000</td>\n",
       "    </tr>\n",
       "    <tr>\n",
       "      <th>max</th>\n",
       "      <td>59.000000</td>\n",
       "      <td>65.000000</td>\n",
       "      <td>1.000000</td>\n",
       "    </tr>\n",
       "  </tbody>\n",
       "</table>\n",
       "</div>"
      ],
      "text/plain": [
       "                age       vintage     is_active\n",
       "count  37748.000000  37748.000000  37748.000000\n",
       "mean      38.521379     19.573169      0.264809\n",
       "std       10.121811     10.252417      0.441237\n",
       "min       24.000000      2.000000      0.000000\n",
       "25%       29.000000     13.000000      0.000000\n",
       "50%       37.000000     16.000000      0.000000\n",
       "75%       47.000000     23.000000      1.000000\n",
       "max       59.000000     65.000000      1.000000"
      ]
     },
     "execution_count": 8,
     "metadata": {},
     "output_type": "execute_result"
    }
   ],
   "source": [
    "df.describe()"
   ]
  },
  {
   "cell_type": "code",
   "execution_count": 9,
   "id": "ea6b0eea",
   "metadata": {},
   "outputs": [
    {
     "name": "stdout",
     "output_type": "stream",
     "text": [
      "Numeric columns: ['age', 'vintage', 'is_active'] \n",
      "Categorical columns: ['customer_id', 'gender', 'city_category', 'customer_category', 'b1', 'b2']\n"
     ]
    }
   ],
   "source": [
    "# # Fetch numerical and categorical features\n",
    "# num_cols = df.select_dtypes(['int64', 'float64']).columns.to_list()\n",
    "# cat_cols = df.select_dtypes(['object']).columns.to_list()\n",
    "# print(f'Numeric columns: {num_cols} \\nCategorical columns: {cat_cols}')"
   ]
  },
  {
   "cell_type": "code",
   "execution_count": 16,
   "id": "e459025c",
   "metadata": {},
   "outputs": [
    {
     "name": "stdout",
     "output_type": "stream",
     "text": [
      "Unique values in gender: ['Male' 'Female']\n",
      "Unique values in city_category: ['C1' 'C2']\n",
      "Unique values in customer_category: ['S3' 'S2' 'S1']\n"
     ]
    }
   ],
   "source": [
    "# fetch unique values in categorical columns\n",
    "for col in cat_cols[1:4]:\n",
    "    print(f'Unique values in {col}: {df[col].unique()}')"
   ]
  },
  {
   "cell_type": "markdown",
   "id": "3ef54623",
   "metadata": {},
   "source": [
    "- customer_id is the primary key\n",
    "- Only 2 genders\n",
    "- b1 and b2 do not give clear clarity, due to different combinations within each product"
   ]
  },
  {
   "cell_type": "code",
   "execution_count": 11,
   "id": "7f0250d2",
   "metadata": {},
   "outputs": [],
   "source": [
    "# Process the product columns into list objects\n",
    "df['b1_proc'] = df['b1'].apply(lambda x: x.lstrip(\"['\").rstrip(\"']\").split(\"', '\"))\n",
    "df['b2_proc'] = df['b2'].apply(lambda x: x.lstrip(\"['\").rstrip(\"']\").split(\"', '\"))\n"
   ]
  },
  {
   "cell_type": "code",
   "execution_count": 12,
   "id": "d8501d57",
   "metadata": {},
   "outputs": [
    {
     "data": {
      "text/html": [
       "<div>\n",
       "<style scoped>\n",
       "    .dataframe tbody tr th:only-of-type {\n",
       "        vertical-align: middle;\n",
       "    }\n",
       "\n",
       "    .dataframe tbody tr th {\n",
       "        vertical-align: top;\n",
       "    }\n",
       "\n",
       "    .dataframe thead th {\n",
       "        text-align: right;\n",
       "    }\n",
       "</style>\n",
       "<table border=\"1\" class=\"dataframe\">\n",
       "  <thead>\n",
       "    <tr style=\"text-align: right;\">\n",
       "      <th></th>\n",
       "      <th>customer_id</th>\n",
       "      <th>gender</th>\n",
       "      <th>age</th>\n",
       "      <th>vintage</th>\n",
       "      <th>is_active</th>\n",
       "      <th>city_category</th>\n",
       "      <th>customer_category</th>\n",
       "      <th>b1</th>\n",
       "      <th>b2</th>\n",
       "      <th>b1_proc</th>\n",
       "      <th>b2_proc</th>\n",
       "    </tr>\n",
       "  </thead>\n",
       "  <tbody>\n",
       "    <tr>\n",
       "      <th>0</th>\n",
       "      <td>CC264719</td>\n",
       "      <td>Male</td>\n",
       "      <td>41</td>\n",
       "      <td>14</td>\n",
       "      <td>0</td>\n",
       "      <td>C1</td>\n",
       "      <td>S3</td>\n",
       "      <td>['P16']</td>\n",
       "      <td>['P8']</td>\n",
       "      <td>[P16]</td>\n",
       "      <td>[P8]</td>\n",
       "    </tr>\n",
       "    <tr>\n",
       "      <th>1</th>\n",
       "      <td>CC209679</td>\n",
       "      <td>Female</td>\n",
       "      <td>47</td>\n",
       "      <td>14</td>\n",
       "      <td>1</td>\n",
       "      <td>C1</td>\n",
       "      <td>S2</td>\n",
       "      <td>['P13', 'P20']</td>\n",
       "      <td>['P3']</td>\n",
       "      <td>[P13, P20]</td>\n",
       "      <td>[P3]</td>\n",
       "    </tr>\n",
       "    <tr>\n",
       "      <th>2</th>\n",
       "      <td>CC319633</td>\n",
       "      <td>Female</td>\n",
       "      <td>59</td>\n",
       "      <td>14</td>\n",
       "      <td>0</td>\n",
       "      <td>C2</td>\n",
       "      <td>S2</td>\n",
       "      <td>['P11']</td>\n",
       "      <td>['P00']</td>\n",
       "      <td>[P11]</td>\n",
       "      <td>[P00]</td>\n",
       "    </tr>\n",
       "    <tr>\n",
       "      <th>3</th>\n",
       "      <td>CC231413</td>\n",
       "      <td>Female</td>\n",
       "      <td>32</td>\n",
       "      <td>16</td>\n",
       "      <td>0</td>\n",
       "      <td>C1</td>\n",
       "      <td>S2</td>\n",
       "      <td>['P8', 'P13']</td>\n",
       "      <td>['P6']</td>\n",
       "      <td>[P8, P13]</td>\n",
       "      <td>[P6]</td>\n",
       "    </tr>\n",
       "    <tr>\n",
       "      <th>4</th>\n",
       "      <td>CC259633</td>\n",
       "      <td>Male</td>\n",
       "      <td>30</td>\n",
       "      <td>15</td>\n",
       "      <td>0</td>\n",
       "      <td>C2</td>\n",
       "      <td>S3</td>\n",
       "      <td>['P16', 'P17', 'P21']</td>\n",
       "      <td>['P8', 'P12']</td>\n",
       "      <td>[P16, P17, P21]</td>\n",
       "      <td>[P8, P12]</td>\n",
       "    </tr>\n",
       "  </tbody>\n",
       "</table>\n",
       "</div>"
      ],
      "text/plain": [
       "  customer_id  gender  age  vintage  is_active city_category  \\\n",
       "0    CC264719    Male   41       14          0            C1   \n",
       "1    CC209679  Female   47       14          1            C1   \n",
       "2    CC319633  Female   59       14          0            C2   \n",
       "3    CC231413  Female   32       16          0            C1   \n",
       "4    CC259633    Male   30       15          0            C2   \n",
       "\n",
       "  customer_category                     b1             b2          b1_proc  \\\n",
       "0                S3                ['P16']         ['P8']            [P16]   \n",
       "1                S2         ['P13', 'P20']         ['P3']       [P13, P20]   \n",
       "2                S2                ['P11']        ['P00']            [P11]   \n",
       "3                S2          ['P8', 'P13']         ['P6']        [P8, P13]   \n",
       "4                S3  ['P16', 'P17', 'P21']  ['P8', 'P12']  [P16, P17, P21]   \n",
       "\n",
       "     b2_proc  \n",
       "0       [P8]  \n",
       "1       [P3]  \n",
       "2      [P00]  \n",
       "3       [P6]  \n",
       "4  [P8, P12]  "
      ]
     },
     "execution_count": 12,
     "metadata": {},
     "output_type": "execute_result"
    }
   ],
   "source": [
    "df.head()"
   ]
  },
  {
   "cell_type": "code",
   "execution_count": 13,
   "id": "97269c8d",
   "metadata": {},
   "outputs": [
    {
     "data": {
      "text/plain": [
       "{'P00',\n",
       " 'P1',\n",
       " 'P10',\n",
       " 'P11',\n",
       " 'P12',\n",
       " 'P13',\n",
       " 'P14',\n",
       " 'P15',\n",
       " 'P16',\n",
       " 'P17',\n",
       " 'P18',\n",
       " 'P19',\n",
       " 'P2',\n",
       " 'P20',\n",
       " 'P21',\n",
       " 'P3',\n",
       " 'P4',\n",
       " 'P5',\n",
       " 'P6',\n",
       " 'P7',\n",
       " 'P8',\n",
       " 'P9'}"
      ]
     },
     "execution_count": 13,
     "metadata": {},
     "output_type": "execute_result"
    }
   ],
   "source": [
    "# fetch unique b1\n",
    "b1 = set()\n",
    "for record in df['b1_proc']:\n",
    "    for product in record:\n",
    "        b1.add(product)\n",
    "\n",
    "# fetch unique b2\n",
    "b2 = set()\n",
    "for record in df['b2_proc']:\n",
    "    for product in record:\n",
    "        b2.add(product)\n"
   ]
  },
  {
   "cell_type": "code",
   "execution_count": 20,
   "id": "575f51d8",
   "metadata": {},
   "outputs": [
    {
     "name": "stdout",
     "output_type": "stream",
     "text": [
      "b1 unique: 22 \n",
      "b2 unique: 20 \n",
      "common products: 20\n"
     ]
    }
   ],
   "source": [
    "print(f'b1 unique: {len(b1)} \\nb2 unique: {len(b2)} \\ncommon products: {len(b1.intersection(b2))}')"
   ]
  },
  {
   "cell_type": "code",
   "execution_count": 24,
   "id": "e1d10787",
   "metadata": {},
   "outputs": [
    {
     "data": {
      "text/plain": [
       "count    37748.000000\n",
       "mean         1.684248\n",
       "std          0.880064\n",
       "min          1.000000\n",
       "25%          1.000000\n",
       "50%          1.000000\n",
       "75%          2.000000\n",
       "max          8.000000\n",
       "Name: b1_len, dtype: float64"
      ]
     },
     "execution_count": 24,
     "metadata": {},
     "output_type": "execute_result"
    }
   ],
   "source": [
    "# Check number of products subscribed\n",
    "df['b1_len'] = df['b1_proc'].apply(lambda x: len(x))\n",
    "df['b1_len'].describe()"
   ]
  },
  {
   "cell_type": "markdown",
   "id": "16696904",
   "metadata": {},
   "source": [
    "- Customers currently subscribed to 1.68 +- 0.88 products\n",
    "- Atleast 1 product to max of 8"
   ]
  },
  {
   "cell_type": "code",
   "execution_count": 25,
   "id": "722672a3",
   "metadata": {},
   "outputs": [
    {
     "data": {
      "text/plain": [
       "count    37748.000000\n",
       "mean         1.379066\n",
       "std          0.723320\n",
       "min          1.000000\n",
       "25%          1.000000\n",
       "50%          1.000000\n",
       "75%          2.000000\n",
       "max          7.000000\n",
       "Name: b2_len, dtype: float64"
      ]
     },
     "execution_count": 25,
     "metadata": {},
     "output_type": "execute_result"
    }
   ],
   "source": [
    "# Check number of products subscribed 6 months hence\n",
    "df['b2_len'] = df['b2_proc'].apply(lambda x: len(x))\n",
    "df['b2_len'].describe()"
   ]
  },
  {
   "cell_type": "markdown",
   "id": "a3ca17f0",
   "metadata": {},
   "source": [
    "\n",
    "- Customers currently subscribed to 1.37 +- 0.72 products\n",
    "- Atleast 1 product to max of 7\n",
    "\n"
   ]
  },
  {
   "cell_type": "code",
   "execution_count": 48,
   "id": "c8ea7bcf",
   "metadata": {},
   "outputs": [],
   "source": [
    "import matplotlib.pyplot as plt\n",
    "import seaborn as sns"
   ]
  },
  {
   "cell_type": "code",
   "execution_count": 47,
   "id": "92a42913",
   "metadata": {},
   "outputs": [
    {
     "data": {
      "text/plain": [
       "array([[<AxesSubplot:title={'center':'b1_len'}>,\n",
       "        <AxesSubplot:title={'center':'b2_len'}>]], dtype=object)"
      ]
     },
     "execution_count": 47,
     "metadata": {},
     "output_type": "execute_result"
    },
    {
     "data": {
      "image/png": "[encoded data removed]",
      "text/plain": [
       "<Figure size 1080x360 with 2 Axes>"
      ]
     },
     "metadata": {
      "needs_background": "light"
     },
     "output_type": "display_data"
    }
   ],
   "source": [
    "df.hist(['b1_len', 'b2_len'], grid= False, figsize= (15,5), bins = 8)"
   ]
  },
  {
   "cell_type": "code",
   "execution_count": 54,
   "id": "47ebded9",
   "metadata": {},
   "outputs": [
    {
     "data": {
      "text/plain": [
       "<seaborn.axisgrid.FacetGrid at 0x7f93404be130>"
      ]
     },
     "execution_count": 54,
     "metadata": {},
     "output_type": "execute_result"
    },
    {
     "data": {
      "image/png": "[encoded data removed]",
      "text/plain": [
       "<Figure size 360x360 with 1 Axes>"
      ]
     },
     "metadata": {
      "needs_background": "light"
     },
     "output_type": "display_data"
    }
   ],
   "source": [
    "sns.catplot(x= 'b1_len', y= 'b2_len', data= df)"
   ]
  },
  {
   "cell_type": "code",
   "execution_count": 50,
   "id": "59b54167",
   "metadata": {},
   "outputs": [
    {
     "data": {
      "text/plain": [
       "<seaborn.axisgrid.FacetGrid at 0x7f9340bd7820>"
      ]
     },
     "execution_count": 50,
     "metadata": {},
     "output_type": "execute_result"
    },
    {
     "data": {
      "image/png": "[encoded data removed]",
      "text/plain": [
       "<Figure size 432.125x360 with 1 Axes>"
      ]
     },
     "metadata": {
      "needs_background": "light"
     },
     "output_type": "display_data"
    }
   ],
   "source": [
    "sns.catplot(x= 'b1_len', y= 'b2_len', hue= 'gender', kind= 'bar', data= df)"
   ]
  },
  {
   "cell_type": "code",
   "execution_count": 55,
   "id": "43142400",
   "metadata": {},
   "outputs": [
    {
     "data": {
      "text/plain": [
       "<seaborn.axisgrid.FacetGrid at 0x7f93403ef910>"
      ]
     },
     "execution_count": 55,
     "metadata": {},
     "output_type": "execute_result"
    },
    {
     "data": {
      "image/png": "[encoded data removed]",
      "text/plain": [
       "<Figure size 435.125x360 with 1 Axes>"
      ]
     },
     "metadata": {
      "needs_background": "light"
     },
     "output_type": "display_data"
    }
   ],
   "source": [
    "sns.catplot(x= 'b1_len', y= 'b2_len', hue= 'city_category', kind= 'bar', data= df)"
   ]
  },
  {
   "cell_type": "code",
   "execution_count": 56,
   "id": "26fc34b3",
   "metadata": {},
   "outputs": [
    {
     "data": {
      "text/plain": [
       "<seaborn.axisgrid.FacetGrid at 0x7f93403a61f0>"
      ]
     },
     "execution_count": 56,
     "metadata": {},
     "output_type": "execute_result"
    },
    {
     "data": {
      "image/png": "[encoded data removed]",
      "text/plain": [
       "<Figure size 463.875x360 with 1 Axes>"
      ]
     },
     "metadata": {
      "needs_background": "light"
     },
     "output_type": "display_data"
    }
   ],
   "source": [
    "sns.catplot(x= 'b1_len', y= 'b2_len', hue= 'customer_category', kind= 'bar', data= df)"
   ]
  },
  {
   "cell_type": "code",
   "execution_count": 165,
   "id": "3dda0a46",
   "metadata": {},
   "outputs": [
    {
     "data": {
      "text/plain": [
       "<AxesSubplot:>"
      ]
     },
     "execution_count": 165,
     "metadata": {},
     "output_type": "execute_result"
    },
    {
     "data": {
      "image/png": "[encoded data removed]",
      "text/plain": [
       "<Figure size 432x288 with 1 Axes>"
      ]
     },
     "metadata": {
      "needs_background": "light"
     },
     "output_type": "display_data"
    }
   ],
   "source": [
    "df['age'].hist(grid= False)"
   ]
  },
  {
   "cell_type": "markdown",
   "id": "4bc18f0e",
   "metadata": {},
   "source": [
    "- Females are unlikely to subscribe to more number of products\n",
    "- Number of products subscribed later have linear relationship with number of products subscribed to currently"
   ]
  },
  {
   "cell_type": "code",
   "execution_count": 161,
   "id": "709b6a66",
   "metadata": {},
   "outputs": [
    {
     "data": {
      "text/html": [
       "<div>\n",
       "<style scoped>\n",
       "    .dataframe tbody tr th:only-of-type {\n",
       "        vertical-align: middle;\n",
       "    }\n",
       "\n",
       "    .dataframe tbody tr th {\n",
       "        vertical-align: top;\n",
       "    }\n",
       "\n",
       "    .dataframe thead th {\n",
       "        text-align: right;\n",
       "    }\n",
       "</style>\n",
       "<table border=\"1\" class=\"dataframe\">\n",
       "  <thead>\n",
       "    <tr style=\"text-align: right;\">\n",
       "      <th></th>\n",
       "      <th>age</th>\n",
       "      <th>vintage</th>\n",
       "      <th>is_active</th>\n",
       "      <th>b1_len</th>\n",
       "      <th>b2_len</th>\n",
       "    </tr>\n",
       "  </thead>\n",
       "  <tbody>\n",
       "    <tr>\n",
       "      <th>age</th>\n",
       "      <td>1.000000</td>\n",
       "      <td>0.000117</td>\n",
       "      <td>0.006373</td>\n",
       "      <td>0.009051</td>\n",
       "      <td>0.008582</td>\n",
       "    </tr>\n",
       "    <tr>\n",
       "      <th>vintage</th>\n",
       "      <td>0.000117</td>\n",
       "      <td>1.000000</td>\n",
       "      <td>0.170719</td>\n",
       "      <td>0.114441</td>\n",
       "      <td>0.111682</td>\n",
       "    </tr>\n",
       "    <tr>\n",
       "      <th>is_active</th>\n",
       "      <td>0.006373</td>\n",
       "      <td>0.170719</td>\n",
       "      <td>1.000000</td>\n",
       "      <td>0.201344</td>\n",
       "      <td>0.213980</td>\n",
       "    </tr>\n",
       "    <tr>\n",
       "      <th>b1_len</th>\n",
       "      <td>0.009051</td>\n",
       "      <td>0.114441</td>\n",
       "      <td>0.201344</td>\n",
       "      <td>1.000000</td>\n",
       "      <td>0.852740</td>\n",
       "    </tr>\n",
       "    <tr>\n",
       "      <th>b2_len</th>\n",
       "      <td>0.008582</td>\n",
       "      <td>0.111682</td>\n",
       "      <td>0.213980</td>\n",
       "      <td>0.852740</td>\n",
       "      <td>1.000000</td>\n",
       "    </tr>\n",
       "  </tbody>\n",
       "</table>\n",
       "</div>"
      ],
      "text/plain": [
       "                age   vintage  is_active    b1_len    b2_len\n",
       "age        1.000000  0.000117   0.006373  0.009051  0.008582\n",
       "vintage    0.000117  1.000000   0.170719  0.114441  0.111682\n",
       "is_active  0.006373  0.170719   1.000000  0.201344  0.213980\n",
       "b1_len     0.009051  0.114441   0.201344  1.000000  0.852740\n",
       "b2_len     0.008582  0.111682   0.213980  0.852740  1.000000"
      ]
     },
     "execution_count": 161,
     "metadata": {},
     "output_type": "execute_result"
    }
   ],
   "source": [
    "df.corr()"
   ]
  },
  {
   "cell_type": "markdown",
   "id": "14b1e4fa",
   "metadata": {},
   "source": [
    "### Split data"
   ]
  },
  {
   "cell_type": "code",
   "execution_count": null,
   "id": "fd1759b6",
   "metadata": {},
   "outputs": [],
   "source": []
  },
  {
   "cell_type": "markdown",
   "id": "5112cda7",
   "metadata": {},
   "source": [
    "### Transform product data to one-hot encoded form"
   ]
  },
  {
   "cell_type": "code",
   "execution_count": 75,
   "id": "9422b727",
   "metadata": {},
   "outputs": [
    {
     "data": {
      "text/plain": [
       "MultiLabelBinarizer()"
      ]
     },
     "execution_count": 75,
     "metadata": {},
     "output_type": "execute_result"
    }
   ],
   "source": [
    "# binarize b1, b2\n",
    "from sklearn.preprocessing import MultiLabelBinarizer\n",
    "mlb = MultiLabelBinarizer()\n",
    "mlb.fit(df['b1_proc'])\n"
   ]
  },
  {
   "cell_type": "code",
   "execution_count": 86,
   "id": "b2a5fd07",
   "metadata": {},
   "outputs": [
    {
     "data": {
      "text/plain": [
       "array(['P00', 'P1', 'P10', 'P11', 'P12', 'P13', 'P14', 'P15', 'P16',\n",
       "       'P17', 'P18', 'P19', 'P2', 'P20', 'P21', 'P3', 'P4', 'P5', 'P6',\n",
       "       'P7', 'P8', 'P9'], dtype=object)"
      ]
     },
     "execution_count": 86,
     "metadata": {},
     "output_type": "execute_result"
    }
   ],
   "source": [
    "mlb.classes_"
   ]
  },
  {
   "cell_type": "code",
   "execution_count": 85,
   "id": "fc4a7dcf",
   "metadata": {},
   "outputs": [
    {
     "data": {
      "text/plain": [
       "'P16'"
      ]
     },
     "execution_count": 85,
     "metadata": {},
     "output_type": "execute_result"
    }
   ],
   "source": [
    "df['b1_proc'][0][0]"
   ]
  },
  {
   "cell_type": "code",
   "execution_count": 101,
   "id": "989011df",
   "metadata": {},
   "outputs": [],
   "source": [
    "# Encode the product columns\n",
    "df['b1_enc'] = df['b1_proc'].apply(lambda x: mlb.transform([x]))\n",
    "df['b2_enc'] = df['b2_proc'].apply(lambda x: mlb.transform([x]))"
   ]
  },
  {
   "cell_type": "code",
   "execution_count": 334,
   "id": "52d7a7e7",
   "metadata": {},
   "outputs": [
    {
     "data": {
      "text/plain": [
       "numpy.ndarray"
      ]
     },
     "execution_count": 334,
     "metadata": {},
     "output_type": "execute_result"
    }
   ],
   "source": [
    "type(df['b1_enc'][0])"
   ]
  },
  {
   "cell_type": "code",
   "execution_count": 156,
   "id": "b1e7d3da",
   "metadata": {},
   "outputs": [
    {
     "data": {
      "text/plain": [
       "\"['P8']\""
      ]
     },
     "execution_count": 156,
     "metadata": {},
     "output_type": "execute_result"
    }
   ],
   "source": [
    "res= df['b2_enc'][0]\n",
    "str(list(mlb.inverse_transform(res)[0]))"
   ]
  },
  {
   "cell_type": "markdown",
   "id": "91b58486",
   "metadata": {},
   "source": [
    "## Modelling"
   ]
  },
  {
   "cell_type": "code",
   "execution_count": 173,
   "id": "0ddbafdc",
   "metadata": {},
   "outputs": [
    {
     "data": {
      "text/html": [
       "<div>\n",
       "<style scoped>\n",
       "    .dataframe tbody tr th:only-of-type {\n",
       "        vertical-align: middle;\n",
       "    }\n",
       "\n",
       "    .dataframe tbody tr th {\n",
       "        vertical-align: top;\n",
       "    }\n",
       "\n",
       "    .dataframe thead th {\n",
       "        text-align: right;\n",
       "    }\n",
       "</style>\n",
       "<table border=\"1\" class=\"dataframe\">\n",
       "  <thead>\n",
       "    <tr style=\"text-align: right;\">\n",
       "      <th></th>\n",
       "      <th>Customer_ID</th>\n",
       "      <th>Gender</th>\n",
       "      <th>Age</th>\n",
       "      <th>Vintage</th>\n",
       "      <th>Is_Active</th>\n",
       "      <th>City_Category</th>\n",
       "      <th>Customer_Category</th>\n",
       "      <th>Product_Holding_B1</th>\n",
       "      <th>Product_Holding_B2</th>\n",
       "    </tr>\n",
       "  </thead>\n",
       "  <tbody>\n",
       "    <tr>\n",
       "      <th>0</th>\n",
       "      <td>CC264719</td>\n",
       "      <td>Male</td>\n",
       "      <td>41</td>\n",
       "      <td>14</td>\n",
       "      <td>0</td>\n",
       "      <td>C1</td>\n",
       "      <td>S3</td>\n",
       "      <td>['P16']</td>\n",
       "      <td>['P8']</td>\n",
       "    </tr>\n",
       "    <tr>\n",
       "      <th>1</th>\n",
       "      <td>CC209679</td>\n",
       "      <td>Female</td>\n",
       "      <td>47</td>\n",
       "      <td>14</td>\n",
       "      <td>1</td>\n",
       "      <td>C1</td>\n",
       "      <td>S2</td>\n",
       "      <td>['P13', 'P20']</td>\n",
       "      <td>['P3']</td>\n",
       "    </tr>\n",
       "    <tr>\n",
       "      <th>2</th>\n",
       "      <td>CC319633</td>\n",
       "      <td>Female</td>\n",
       "      <td>59</td>\n",
       "      <td>14</td>\n",
       "      <td>0</td>\n",
       "      <td>C2</td>\n",
       "      <td>S2</td>\n",
       "      <td>['P11']</td>\n",
       "      <td>['P00']</td>\n",
       "    </tr>\n",
       "    <tr>\n",
       "      <th>3</th>\n",
       "      <td>CC231413</td>\n",
       "      <td>Female</td>\n",
       "      <td>32</td>\n",
       "      <td>16</td>\n",
       "      <td>0</td>\n",
       "      <td>C1</td>\n",
       "      <td>S2</td>\n",
       "      <td>['P8', 'P13']</td>\n",
       "      <td>['P6']</td>\n",
       "    </tr>\n",
       "    <tr>\n",
       "      <th>4</th>\n",
       "      <td>CC259633</td>\n",
       "      <td>Male</td>\n",
       "      <td>30</td>\n",
       "      <td>15</td>\n",
       "      <td>0</td>\n",
       "      <td>C2</td>\n",
       "      <td>S3</td>\n",
       "      <td>['P16', 'P17', 'P21']</td>\n",
       "      <td>['P8', 'P12']</td>\n",
       "    </tr>\n",
       "  </tbody>\n",
       "</table>\n",
       "</div>"
      ],
      "text/plain": [
       "  Customer_ID  Gender  Age  Vintage  Is_Active City_Category  \\\n",
       "0    CC264719    Male   41       14          0            C1   \n",
       "1    CC209679  Female   47       14          1            C1   \n",
       "2    CC319633  Female   59       14          0            C2   \n",
       "3    CC231413  Female   32       16          0            C1   \n",
       "4    CC259633    Male   30       15          0            C2   \n",
       "\n",
       "  Customer_Category     Product_Holding_B1 Product_Holding_B2  \n",
       "0                S3                ['P16']             ['P8']  \n",
       "1                S2         ['P13', 'P20']             ['P3']  \n",
       "2                S2                ['P11']            ['P00']  \n",
       "3                S2          ['P8', 'P13']             ['P6']  \n",
       "4                S3  ['P16', 'P17', 'P21']      ['P8', 'P12']  "
      ]
     },
     "execution_count": 173,
     "metadata": {},
     "output_type": "execute_result"
    }
   ],
   "source": [
    "full = pd.read_csv('train.csv')\n",
    "full.head()"
   ]
  },
  {
   "cell_type": "code",
   "execution_count": 176,
   "id": "570b9a7a",
   "metadata": {},
   "outputs": [
    {
     "data": {
      "text/html": [
       "<div>\n",
       "<style scoped>\n",
       "    .dataframe tbody tr th:only-of-type {\n",
       "        vertical-align: middle;\n",
       "    }\n",
       "\n",
       "    .dataframe tbody tr th {\n",
       "        vertical-align: top;\n",
       "    }\n",
       "\n",
       "    .dataframe thead th {\n",
       "        text-align: right;\n",
       "    }\n",
       "</style>\n",
       "<table border=\"1\" class=\"dataframe\">\n",
       "  <thead>\n",
       "    <tr style=\"text-align: right;\">\n",
       "      <th></th>\n",
       "      <th>customer_id</th>\n",
       "      <th>gender</th>\n",
       "      <th>age</th>\n",
       "      <th>vintage</th>\n",
       "      <th>is_active</th>\n",
       "      <th>city_category</th>\n",
       "      <th>customer_category</th>\n",
       "      <th>b1</th>\n",
       "      <th>b2</th>\n",
       "    </tr>\n",
       "  </thead>\n",
       "  <tbody>\n",
       "    <tr>\n",
       "      <th>0</th>\n",
       "      <td>CC264719</td>\n",
       "      <td>Male</td>\n",
       "      <td>41</td>\n",
       "      <td>14</td>\n",
       "      <td>0</td>\n",
       "      <td>C1</td>\n",
       "      <td>S3</td>\n",
       "      <td>['P16']</td>\n",
       "      <td>['P8']</td>\n",
       "    </tr>\n",
       "    <tr>\n",
       "      <th>1</th>\n",
       "      <td>CC209679</td>\n",
       "      <td>Female</td>\n",
       "      <td>47</td>\n",
       "      <td>14</td>\n",
       "      <td>1</td>\n",
       "      <td>C1</td>\n",
       "      <td>S2</td>\n",
       "      <td>['P13', 'P20']</td>\n",
       "      <td>['P3']</td>\n",
       "    </tr>\n",
       "    <tr>\n",
       "      <th>2</th>\n",
       "      <td>CC319633</td>\n",
       "      <td>Female</td>\n",
       "      <td>59</td>\n",
       "      <td>14</td>\n",
       "      <td>0</td>\n",
       "      <td>C2</td>\n",
       "      <td>S2</td>\n",
       "      <td>['P11']</td>\n",
       "      <td>['P00']</td>\n",
       "    </tr>\n",
       "    <tr>\n",
       "      <th>3</th>\n",
       "      <td>CC231413</td>\n",
       "      <td>Female</td>\n",
       "      <td>32</td>\n",
       "      <td>16</td>\n",
       "      <td>0</td>\n",
       "      <td>C1</td>\n",
       "      <td>S2</td>\n",
       "      <td>['P8', 'P13']</td>\n",
       "      <td>['P6']</td>\n",
       "    </tr>\n",
       "    <tr>\n",
       "      <th>4</th>\n",
       "      <td>CC259633</td>\n",
       "      <td>Male</td>\n",
       "      <td>30</td>\n",
       "      <td>15</td>\n",
       "      <td>0</td>\n",
       "      <td>C2</td>\n",
       "      <td>S3</td>\n",
       "      <td>['P16', 'P17', 'P21']</td>\n",
       "      <td>['P8', 'P12']</td>\n",
       "    </tr>\n",
       "  </tbody>\n",
       "</table>\n",
       "</div>"
      ],
      "text/plain": [
       "  customer_id  gender  age  vintage is_active city_category customer_category  \\\n",
       "0    CC264719    Male   41       14         0            C1                S3   \n",
       "1    CC209679  Female   47       14         1            C1                S2   \n",
       "2    CC319633  Female   59       14         0            C2                S2   \n",
       "3    CC231413  Female   32       16         0            C1                S2   \n",
       "4    CC259633    Male   30       15         0            C2                S3   \n",
       "\n",
       "                      b1             b2  \n",
       "0                ['P16']         ['P8']  \n",
       "1         ['P13', 'P20']         ['P3']  \n",
       "2                ['P11']        ['P00']  \n",
       "3          ['P8', 'P13']         ['P6']  \n",
       "4  ['P16', 'P17', 'P21']  ['P8', 'P12']  "
      ]
     },
     "execution_count": 176,
     "metadata": {},
     "output_type": "execute_result"
    }
   ],
   "source": [
    "full = std_col_names(full)\n",
    "full.head()"
   ]
  },
  {
   "cell_type": "markdown",
   "id": "cc38ed5f",
   "metadata": {},
   "source": [
    "### Split Data"
   ]
  },
  {
   "cell_type": "code",
   "execution_count": 392,
   "id": "6f894e95",
   "metadata": {},
   "outputs": [],
   "source": [
    "from sklearn.model_selection import train_test_split"
   ]
  },
  {
   "cell_type": "code",
   "execution_count": 393,
   "id": "b4b39df2",
   "metadata": {},
   "outputs": [],
   "source": [
    "x_train, x_val, y_train, y_val = train_test_split(full[full.columns.to_list()[1:-1]], full['b2'], test_size= 0.15, random_state= 42)"
   ]
  },
  {
   "cell_type": "code",
   "execution_count": 394,
   "id": "5ae0594b",
   "metadata": {},
   "outputs": [],
   "source": [
    "x_train = x_train.reset_index(drop= True)\n",
    "x_val = x_val.reset_index(drop= True)\n",
    "\n",
    "y_train = y_train.reset_index(drop= True)\n",
    "y_val = y_val.reset_index(drop=True)"
   ]
  },
  {
   "cell_type": "code",
   "execution_count": 395,
   "id": "d5b5ce9a",
   "metadata": {},
   "outputs": [],
   "source": [
    "def process_prod(df):\n",
    "    if isinstance(df, pd.DataFrame):\n",
    "        df['b1_proc'] = df['b1'].apply(lambda x: x.lstrip(\"['\").rstrip(\"']\").split(\"', '\"))\n",
    "        df['b1_len'] = df['b1_proc'].apply(lambda x: len(x))\n",
    "        return df\n",
    "    else:\n",
    "        target = df.apply(lambda x: x.lstrip(\"['\").rstrip(\"']\").split(\"', '\"))\n",
    "        return target\n",
    "    \n"
   ]
  },
  {
   "cell_type": "code",
   "execution_count": 396,
   "id": "5b5fdf03",
   "metadata": {},
   "outputs": [],
   "source": [
    "x_train = process_prod(x_train)\n",
    "y_train_proc = process_prod(y_train)"
   ]
  },
  {
   "cell_type": "code",
   "execution_count": 397,
   "id": "eb5589cc",
   "metadata": {},
   "outputs": [],
   "source": [
    "def generate_class_list():\n",
    "    classes_list = []\n",
    "    for i in range(22):\n",
    "        classes_list.append(f'P{i}')\n",
    "    classes_list[0] = 'P00'\n",
    "    return classes_list\n",
    "prod_list = generate_class_list()"
   ]
  },
  {
   "cell_type": "code",
   "execution_count": 398,
   "id": "1b586f57",
   "metadata": {},
   "outputs": [
    {
     "data": {
      "text/plain": [
       "array(['P00', 'P1', 'P2', 'P3', 'P4', 'P5', 'P6', 'P7', 'P8', 'P9', 'P10',\n",
       "       'P11', 'P12', 'P13', 'P14', 'P15', 'P16', 'P17', 'P18', 'P19',\n",
       "       'P20', 'P21'], dtype=object)"
      ]
     },
     "execution_count": 398,
     "metadata": {},
     "output_type": "execute_result"
    }
   ],
   "source": [
    "mlb_split = MultiLabelBinarizer(classes = prod_list)\n",
    "mlb_split.fit(x_train['b1'])\n",
    "mlb_split.classes_"
   ]
  },
  {
   "cell_type": "code",
   "execution_count": 399,
   "id": "49ab2892",
   "metadata": {
    "scrolled": true
   },
   "outputs": [],
   "source": [
    "def binarize_prod(df, mlb):\n",
    "    if isinstance(df, pd.DataFrame):\n",
    "        df['b1_enc'] = df['b1_proc'].apply(lambda x: mlb.transform([x])[0])\n",
    "        return df\n",
    "    else:\n",
    "        target = df.apply(lambda x: mlb.transform([x])[0])\n",
    "        return target   "
   ]
  },
  {
   "cell_type": "code",
   "execution_count": 400,
   "id": "c228a708",
   "metadata": {},
   "outputs": [],
   "source": [
    "x_train = binarize_prod(x_train, mlb_split)\n",
    "y_train_enc = binarize_prod(y_train_proc, mlb_split)"
   ]
  },
  {
   "cell_type": "code",
   "execution_count": 403,
   "id": "da064e11",
   "metadata": {},
   "outputs": [],
   "source": [
    "# Process validation too\n",
    "x_val = process_prod(x_val)\n",
    "y_val_proc = process_prod(y_val)\n",
    "\n",
    "x_val = binarize_prod(x_val, mlb_split)\n",
    "y_val_enc = binarize_prod(y_val_proc, mlb_split)"
   ]
  },
  {
   "cell_type": "code",
   "execution_count": 404,
   "id": "7f6476ed",
   "metadata": {},
   "outputs": [
    {
     "data": {
      "text/html": [
       "<div>\n",
       "<style scoped>\n",
       "    .dataframe tbody tr th:only-of-type {\n",
       "        vertical-align: middle;\n",
       "    }\n",
       "\n",
       "    .dataframe tbody tr th {\n",
       "        vertical-align: top;\n",
       "    }\n",
       "\n",
       "    .dataframe thead th {\n",
       "        text-align: right;\n",
       "    }\n",
       "</style>\n",
       "<table border=\"1\" class=\"dataframe\">\n",
       "  <thead>\n",
       "    <tr style=\"text-align: right;\">\n",
       "      <th></th>\n",
       "      <th>gender</th>\n",
       "      <th>age</th>\n",
       "      <th>vintage</th>\n",
       "      <th>is_active</th>\n",
       "      <th>city_category</th>\n",
       "      <th>customer_category</th>\n",
       "      <th>b1</th>\n",
       "      <th>b1_proc</th>\n",
       "      <th>b1_len</th>\n",
       "      <th>b1_enc</th>\n",
       "    </tr>\n",
       "  </thead>\n",
       "  <tbody>\n",
       "    <tr>\n",
       "      <th>0</th>\n",
       "      <td>Female</td>\n",
       "      <td>27</td>\n",
       "      <td>16</td>\n",
       "      <td>0</td>\n",
       "      <td>C2</td>\n",
       "      <td>S2</td>\n",
       "      <td>['P12', 'P16']</td>\n",
       "      <td>[P12, P16]</td>\n",
       "      <td>2</td>\n",
       "      <td>[0, 0, 0, 0, 0, 0, 0, 0, 0, 0, 0, 0, 1, 0, 0, ...</td>\n",
       "    </tr>\n",
       "    <tr>\n",
       "      <th>1</th>\n",
       "      <td>Female</td>\n",
       "      <td>25</td>\n",
       "      <td>15</td>\n",
       "      <td>0</td>\n",
       "      <td>C1</td>\n",
       "      <td>S2</td>\n",
       "      <td>['P13']</td>\n",
       "      <td>[P13]</td>\n",
       "      <td>1</td>\n",
       "      <td>[0, 0, 0, 0, 0, 0, 0, 0, 0, 0, 0, 0, 0, 1, 0, ...</td>\n",
       "    </tr>\n",
       "    <tr>\n",
       "      <th>2</th>\n",
       "      <td>Female</td>\n",
       "      <td>31</td>\n",
       "      <td>18</td>\n",
       "      <td>1</td>\n",
       "      <td>C2</td>\n",
       "      <td>S3</td>\n",
       "      <td>['P13']</td>\n",
       "      <td>[P13]</td>\n",
       "      <td>1</td>\n",
       "      <td>[0, 0, 0, 0, 0, 0, 0, 0, 0, 0, 0, 0, 0, 1, 0, ...</td>\n",
       "    </tr>\n",
       "    <tr>\n",
       "      <th>3</th>\n",
       "      <td>Male</td>\n",
       "      <td>41</td>\n",
       "      <td>21</td>\n",
       "      <td>0</td>\n",
       "      <td>C2</td>\n",
       "      <td>S1</td>\n",
       "      <td>['P16']</td>\n",
       "      <td>[P16]</td>\n",
       "      <td>1</td>\n",
       "      <td>[0, 0, 0, 0, 0, 0, 0, 0, 0, 0, 0, 0, 0, 0, 0, ...</td>\n",
       "    </tr>\n",
       "    <tr>\n",
       "      <th>4</th>\n",
       "      <td>Male</td>\n",
       "      <td>44</td>\n",
       "      <td>14</td>\n",
       "      <td>0</td>\n",
       "      <td>C2</td>\n",
       "      <td>S3</td>\n",
       "      <td>['P11', 'P12', 'P21']</td>\n",
       "      <td>[P11, P12, P21]</td>\n",
       "      <td>3</td>\n",
       "      <td>[0, 0, 0, 0, 0, 0, 0, 0, 0, 0, 0, 1, 1, 0, 0, ...</td>\n",
       "    </tr>\n",
       "  </tbody>\n",
       "</table>\n",
       "</div>"
      ],
      "text/plain": [
       "   gender  age  vintage is_active city_category customer_category  \\\n",
       "0  Female   27       16         0            C2                S2   \n",
       "1  Female   25       15         0            C1                S2   \n",
       "2  Female   31       18         1            C2                S3   \n",
       "3    Male   41       21         0            C2                S1   \n",
       "4    Male   44       14         0            C2                S3   \n",
       "\n",
       "                      b1          b1_proc  b1_len  \\\n",
       "0         ['P12', 'P16']       [P12, P16]       2   \n",
       "1                ['P13']            [P13]       1   \n",
       "2                ['P13']            [P13]       1   \n",
       "3                ['P16']            [P16]       1   \n",
       "4  ['P11', 'P12', 'P21']  [P11, P12, P21]       3   \n",
       "\n",
       "                                              b1_enc  \n",
       "0  [0, 0, 0, 0, 0, 0, 0, 0, 0, 0, 0, 0, 1, 0, 0, ...  \n",
       "1  [0, 0, 0, 0, 0, 0, 0, 0, 0, 0, 0, 0, 0, 1, 0, ...  \n",
       "2  [0, 0, 0, 0, 0, 0, 0, 0, 0, 0, 0, 0, 0, 1, 0, ...  \n",
       "3  [0, 0, 0, 0, 0, 0, 0, 0, 0, 0, 0, 0, 0, 0, 0, ...  \n",
       "4  [0, 0, 0, 0, 0, 0, 0, 0, 0, 0, 0, 1, 1, 0, 0, ...  "
      ]
     },
     "execution_count": 404,
     "metadata": {},
     "output_type": "execute_result"
    }
   ],
   "source": [
    "x_val.head()"
   ]
  },
  {
   "cell_type": "code",
   "execution_count": 773,
   "id": "4352865d",
   "metadata": {},
   "outputs": [
    {
     "data": {
      "text/plain": [
       "0    [0, 0, 0, 0, 0, 0, 0, 0, 1, 0, 1, 0, 0, 0, 0, ...\n",
       "1    [0, 0, 0, 0, 0, 0, 0, 0, 1, 0, 0, 0, 0, 0, 0, ...\n",
       "2    [1, 0, 0, 0, 0, 0, 0, 0, 0, 0, 0, 0, 0, 0, 0, ...\n",
       "3    [0, 0, 0, 0, 0, 0, 0, 0, 1, 0, 0, 0, 0, 0, 0, ...\n",
       "4    [0, 0, 0, 0, 1, 0, 0, 0, 0, 0, 1, 0, 0, 0, 0, ...\n",
       "Name: b2, dtype: object"
      ]
     },
     "execution_count": 773,
     "metadata": {},
     "output_type": "execute_result"
    }
   ],
   "source": [
    "y_val_enc.head()"
   ]
  },
  {
   "cell_type": "code",
   "execution_count": 592,
   "id": "2e28d819",
   "metadata": {},
   "outputs": [],
   "source": [
    "num_cols = ['age', 'vintage', 'b1_len'] #, 'b1_enc'\n",
    "cat_cols = ['gender',  'is_active', 'city_category', 'customer_category']"
   ]
  },
  {
   "cell_type": "code",
   "execution_count": 408,
   "id": "ae18a896",
   "metadata": {},
   "outputs": [
    {
     "data": {
      "text/plain": [
       "OneHotEncoder(sparse=False)"
      ]
     },
     "execution_count": 408,
     "metadata": {},
     "output_type": "execute_result"
    }
   ],
   "source": [
    "from sklearn.preprocessing import OneHotEncoder\n",
    "ohe = OneHotEncoder(sparse= False)\n",
    "ohe.fit(x_train[cat_cols])"
   ]
  },
  {
   "cell_type": "code",
   "execution_count": 409,
   "id": "7dbd8dba",
   "metadata": {},
   "outputs": [
    {
     "data": {
      "text/plain": [
       "['gender_Female',\n",
       " 'gender_Male',\n",
       " 'is_active_0',\n",
       " 'is_active_1',\n",
       " 'city_category_C1',\n",
       " 'city_category_C2',\n",
       " 'customer_category_S1',\n",
       " 'customer_category_S2',\n",
       " 'customer_category_S3']"
      ]
     },
     "execution_count": 409,
     "metadata": {},
     "output_type": "execute_result"
    }
   ],
   "source": [
    "encoded_cols = list(ohe.get_feature_names(cat_cols))\n",
    "encoded_cols"
   ]
  },
  {
   "cell_type": "code",
   "execution_count": 410,
   "id": "098047c9",
   "metadata": {},
   "outputs": [],
   "source": [
    "x_train[encoded_cols] = ohe.transform(x_train[cat_cols])\n",
    "x_val[encoded_cols] = ohe.transform(x_val[cat_cols])"
   ]
  },
  {
   "cell_type": "code",
   "execution_count": 411,
   "id": "9e57e033",
   "metadata": {},
   "outputs": [],
   "source": [
    "assert x_train[num_cols+encoded_cols].columns.to_list() == x_val[num_cols+encoded_cols].columns.to_list()"
   ]
  },
  {
   "cell_type": "markdown",
   "id": "9ccd62d9",
   "metadata": {},
   "source": [
    "## Training Model"
   ]
  },
  {
   "cell_type": "code",
   "execution_count": 579,
   "id": "3af977be",
   "metadata": {},
   "outputs": [],
   "source": [
    "y_train_fin = y_train_enc\n",
    "# y_train_fin.shape, yy.shape, y_train_enc.shape\n",
    "\n",
    "y_reshape = np.concatenate(y_train_fin, axis= 0).reshape(32085, 22)\n"
   ]
  },
  {
   "cell_type": "code",
   "execution_count": 607,
   "id": "6afa20e3",
   "metadata": {
    "collapsed": true
   },
   "outputs": [
    {
     "name": "stdout",
     "output_type": "stream",
     "text": [
      "<class 'pandas.core.frame.DataFrame'>\n",
      "RangeIndex: 32085 entries, 0 to 32084\n",
      "Data columns (total 22 columns):\n",
      " #   Column  Non-Null Count  Dtype\n",
      "---  ------  --------------  -----\n",
      " 0   0       32085 non-null  int64\n",
      " 1   1       32085 non-null  int64\n",
      " 2   2       32085 non-null  int64\n",
      " 3   3       32085 non-null  int64\n",
      " 4   4       32085 non-null  int64\n",
      " 5   5       32085 non-null  int64\n",
      " 6   6       32085 non-null  int64\n",
      " 7   7       32085 non-null  int64\n",
      " 8   8       32085 non-null  int64\n",
      " 9   9       32085 non-null  int64\n",
      " 10  10      32085 non-null  int64\n",
      " 11  11      32085 non-null  int64\n",
      " 12  12      32085 non-null  int64\n",
      " 13  13      32085 non-null  int64\n",
      " 14  14      32085 non-null  int64\n",
      " 15  15      32085 non-null  int64\n",
      " 16  16      32085 non-null  int64\n",
      " 17  17      32085 non-null  int64\n",
      " 18  18      32085 non-null  int64\n",
      " 19  19      32085 non-null  int64\n",
      " 20  20      32085 non-null  int64\n",
      " 21  21      32085 non-null  int64\n",
      "dtypes: int64(22)\n",
      "memory usage: 5.4 MB\n"
     ]
    }
   ],
   "source": [
    "b_arr =  (x_train['b1_enc']).to_numpy()\n",
    "b_reshape = np.concatenate(b_arr, axis= 0).reshape(32085, 22)\n",
    "b = pd.DataFrame(b_reshape)\n"
   ]
  },
  {
   "cell_type": "code",
   "execution_count": 701,
   "id": "340d6112",
   "metadata": {},
   "outputs": [],
   "source": [
    "x_train_fin = pd.concat([x_train[num_cols+encoded_cols],b], axis= 1)"
   ]
  },
  {
   "cell_type": "code",
   "execution_count": 628,
   "id": "c81f9d47",
   "metadata": {},
   "outputs": [],
   "source": [
    "from sklearn.multioutput import MultiOutputClassifier\n",
    "from sklearn.ensemble import RandomForestClassifier\n",
    "\n",
    "forest = RandomForestClassifier(random_state=1)\n",
    "\n",
    "clf = MultiOutputClassifier(forest).fit(x_train_fin, y_reshape)"
   ]
  },
  {
   "cell_type": "code",
   "execution_count": 637,
   "id": "e92a512b",
   "metadata": {},
   "outputs": [
    {
     "data": {
      "text/plain": [
       "0.9155727684756749"
      ]
     },
     "execution_count": 637,
     "metadata": {},
     "output_type": "execute_result"
    }
   ],
   "source": [
    "from sklearn.metrics import average_precision_score\n",
    "average_precision_score(y_reshape, train_pred, average= 'micro')"
   ]
  },
  {
   "cell_type": "markdown",
   "id": "7a6cf66f",
   "metadata": {},
   "source": [
    "##### Tune Model"
   ]
  },
  {
   "cell_type": "code",
   "execution_count": 807,
   "id": "8b30237a",
   "metadata": {},
   "outputs": [],
   "source": [
    "import xgboost as xgb\n",
    "from sklearn.model_selection import RandomizedSearchCV\n",
    "from sklearn.metrics import make_scorer"
   ]
  },
  {
   "cell_type": "code",
   "execution_count": 810,
   "id": "9d50804a",
   "metadata": {},
   "outputs": [],
   "source": [
    "my_score = make_scorer(average_precision_score)"
   ]
  },
  {
   "cell_type": "code",
   "execution_count": null,
   "id": "7e4db439",
   "metadata": {},
   "outputs": [],
   "source": [
    "base = RandomForestClassifier(random_state= 42)\n",
    "distrib = {\n",
    "    'n_estimators': [10, 50, 100, 150, 200],\n",
    "    'criterion': ['gini', 'entropy'],\n",
    "    'max_depth': [3, 5, 10, 15, 20],\n",
    "    'max_features':['sqrt', 'log2', 5, 10, 15],\n",
    "    'ccp_alpha' : [0.01, 0.05, 0.1, .05],\n",
    "    'max_samples': [0.15, 0.25, 0.33, 0.5],\n",
    "    'class_weight': ['balanced', 'balanced_subsample']\n",
    "}\n",
    "\n",
    "tuner = RandomizedSearchCV(base, distrib, random_state = 42, verbose= 1)\n",
    "\n",
    "tuner.fit(x_train_fin, y_reshape)"
   ]
  },
  {
   "cell_type": "code",
   "execution_count": 795,
   "id": "a9e26271",
   "metadata": {},
   "outputs": [
    {
     "data": {
      "text/plain": [
       "RandomForestClassifier(ccp_alpha=0.01, class_weight='balanced',\n",
       "                       criterion='entropy', max_depth=15, max_features=10,\n",
       "                       max_samples=0.15, n_estimators=10, random_state=42,\n",
       "                       verbose=2)"
      ]
     },
     "execution_count": 795,
     "metadata": {},
     "output_type": "execute_result"
    }
   ],
   "source": [
    "tuner.best_estimator_"
   ]
  },
  {
   "cell_type": "code",
   "execution_count": 799,
   "id": "c982c296",
   "metadata": {
    "scrolled": true
   },
   "outputs": [
    {
     "data": {
      "text/plain": [
       "0.06417328969923641"
      ]
     },
     "execution_count": 799,
     "metadata": {},
     "output_type": "execute_result"
    }
   ],
   "source": [
    "tuner.best_score_"
   ]
  },
  {
   "cell_type": "code",
   "execution_count": 805,
   "id": "3d5fd9dc",
   "metadata": {},
   "outputs": [
    {
     "data": {
      "text/plain": [
       "<function sklearn.metrics._scorer._passthrough_scorer(estimator, *args, **kwargs)>"
      ]
     },
     "execution_count": 805,
     "metadata": {},
     "output_type": "execute_result"
    }
   ],
   "source": [
    "tuner.scorer_"
   ]
  },
  {
   "cell_type": "code",
   "execution_count": 800,
   "id": "38129dad",
   "metadata": {},
   "outputs": [
    {
     "data": {
      "text/plain": [
       "RandomForestClassifier(ccp_alpha=0.01, class_weight='balanced',\n",
       "                       criterion='entropy', max_depth=15, max_features=10,\n",
       "                       max_samples=0.15, n_estimators=10, random_state=42)"
      ]
     },
     "execution_count": 800,
     "metadata": {},
     "output_type": "execute_result"
    }
   ],
   "source": [
    "tuned_rf = RandomForestClassifier(ccp_alpha=0.01, class_weight='balanced',\n",
    "                       criterion='entropy', max_depth=15, max_features=10,\n",
    "                       max_samples=0.15, n_estimators=10, random_state=42)\n",
    "# tune_clf = MultiOutputClassifier(tuned_rf).fit(x_train_fin, y_reshape)\n",
    "tuned_rf.fit(x_train_fin, y_reshape)"
   ]
  },
  {
   "cell_type": "code",
   "execution_count": null,
   "id": "70b2927a",
   "metadata": {},
   "outputs": [],
   "source": []
  },
  {
   "cell_type": "markdown",
   "id": "afb80858",
   "metadata": {},
   "source": [
    "#### Validation"
   ]
  },
  {
   "cell_type": "code",
   "execution_count": 689,
   "id": "beb39667",
   "metadata": {},
   "outputs": [
    {
     "data": {
      "text/plain": [
       "(5663, 22)"
      ]
     },
     "execution_count": 689,
     "metadata": {},
     "output_type": "execute_result"
    }
   ],
   "source": [
    "y_val_reshape.shape"
   ]
  },
  {
   "cell_type": "code",
   "execution_count": 704,
   "id": "b268b3a3",
   "metadata": {},
   "outputs": [],
   "source": [
    "x_val_b_arr =  (x_val['b1_enc']).to_numpy()\n",
    "x_val_reshape = pd.DataFrame(np.concatenate(x_val_b_arr, axis= 0).reshape(len(x_val), 22))\n",
    "x_val_fin = pd.concat([x_val[num_cols+encoded_cols],x_val_reshape], axis= 1)"
   ]
  },
  {
   "cell_type": "code",
   "execution_count": 688,
   "id": "15bd7bc4",
   "metadata": {},
   "outputs": [],
   "source": [
    "y_val_reshape = np.concatenate(y_val_enc, axis= 0).reshape(len(y_val), 22)\n"
   ]
  },
  {
   "cell_type": "code",
   "execution_count": 698,
   "id": "73664f15",
   "metadata": {},
   "outputs": [
    {
     "data": {
      "text/plain": [
       "0.30866932122257423"
      ]
     },
     "execution_count": 698,
     "metadata": {},
     "output_type": "execute_result"
    }
   ],
   "source": [
    "val_pred = clf.predict(x_val_fin)\n",
    "\n",
    "average_precision_score(y_val_reshape, val_pred, average= 'micro')"
   ]
  },
  {
   "cell_type": "code",
   "execution_count": 804,
   "id": "3acfc3e4",
   "metadata": {},
   "outputs": [
    {
     "name": "stdout",
     "output_type": "stream",
     "text": [
      "0.27576122711568585 0.13703453332804041\n"
     ]
    }
   ],
   "source": [
    "tuned_val_pred_moc = tune_clf.predict(x_val_fin)\n",
    "\n",
    "tuned_val_pred_rf = tuned_rf.predict(x_val_fin)\n",
    "\n",
    "moc_map = average_precision_score(y_val_reshape, tuned_val_pred_moc, average= 'micro')\n",
    "rf_map = average_precision_score(y_val_reshape, tuned_val_pred_rf, average= 'micro')\n",
    "\n",
    "print(moc_map, rf_map)"
   ]
  },
  {
   "cell_type": "markdown",
   "id": "fcf25524",
   "metadata": {},
   "source": [
    "### Training on entire set"
   ]
  },
  {
   "cell_type": "code",
   "execution_count": 722,
   "id": "5fae5e58",
   "metadata": {},
   "outputs": [
    {
     "data": {
      "text/html": [
       "<div>\n",
       "<style scoped>\n",
       "    .dataframe tbody tr th:only-of-type {\n",
       "        vertical-align: middle;\n",
       "    }\n",
       "\n",
       "    .dataframe tbody tr th {\n",
       "        vertical-align: top;\n",
       "    }\n",
       "\n",
       "    .dataframe thead th {\n",
       "        text-align: right;\n",
       "    }\n",
       "</style>\n",
       "<table border=\"1\" class=\"dataframe\">\n",
       "  <thead>\n",
       "    <tr style=\"text-align: right;\">\n",
       "      <th></th>\n",
       "      <th>gender</th>\n",
       "      <th>age</th>\n",
       "      <th>vintage</th>\n",
       "      <th>is_active</th>\n",
       "      <th>city_category</th>\n",
       "      <th>customer_category</th>\n",
       "      <th>b1</th>\n",
       "    </tr>\n",
       "  </thead>\n",
       "  <tbody>\n",
       "    <tr>\n",
       "      <th>0</th>\n",
       "      <td>Male</td>\n",
       "      <td>41</td>\n",
       "      <td>14</td>\n",
       "      <td>0</td>\n",
       "      <td>C1</td>\n",
       "      <td>S3</td>\n",
       "      <td>['P16']</td>\n",
       "    </tr>\n",
       "    <tr>\n",
       "      <th>1</th>\n",
       "      <td>Female</td>\n",
       "      <td>47</td>\n",
       "      <td>14</td>\n",
       "      <td>1</td>\n",
       "      <td>C1</td>\n",
       "      <td>S2</td>\n",
       "      <td>['P13', 'P20']</td>\n",
       "    </tr>\n",
       "    <tr>\n",
       "      <th>2</th>\n",
       "      <td>Female</td>\n",
       "      <td>59</td>\n",
       "      <td>14</td>\n",
       "      <td>0</td>\n",
       "      <td>C2</td>\n",
       "      <td>S2</td>\n",
       "      <td>['P11']</td>\n",
       "    </tr>\n",
       "    <tr>\n",
       "      <th>3</th>\n",
       "      <td>Female</td>\n",
       "      <td>32</td>\n",
       "      <td>16</td>\n",
       "      <td>0</td>\n",
       "      <td>C1</td>\n",
       "      <td>S2</td>\n",
       "      <td>['P8', 'P13']</td>\n",
       "    </tr>\n",
       "    <tr>\n",
       "      <th>4</th>\n",
       "      <td>Male</td>\n",
       "      <td>30</td>\n",
       "      <td>15</td>\n",
       "      <td>0</td>\n",
       "      <td>C2</td>\n",
       "      <td>S3</td>\n",
       "      <td>['P16', 'P17', 'P21']</td>\n",
       "    </tr>\n",
       "  </tbody>\n",
       "</table>\n",
       "</div>"
      ],
      "text/plain": [
       "   gender  age  vintage is_active city_category customer_category  \\\n",
       "0    Male   41       14         0            C1                S3   \n",
       "1  Female   47       14         1            C1                S2   \n",
       "2  Female   59       14         0            C2                S2   \n",
       "3  Female   32       16         0            C1                S2   \n",
       "4    Male   30       15         0            C2                S3   \n",
       "\n",
       "                      b1  \n",
       "0                ['P16']  \n",
       "1         ['P13', 'P20']  \n",
       "2                ['P11']  \n",
       "3          ['P8', 'P13']  \n",
       "4  ['P16', 'P17', 'P21']  "
      ]
     },
     "execution_count": 722,
     "metadata": {},
     "output_type": "execute_result"
    }
   ],
   "source": [
    "train = full.copy()[full.columns.to_list()[1:-1]]\n",
    "train.head()"
   ]
  },
  {
   "cell_type": "code",
   "execution_count": 723,
   "id": "98255bf7",
   "metadata": {},
   "outputs": [],
   "source": [
    "train = process_prod(train)\n",
    "target_proc = process_prod(full['b2'])"
   ]
  },
  {
   "cell_type": "code",
   "execution_count": 724,
   "id": "0607d021",
   "metadata": {},
   "outputs": [
    {
     "data": {
      "text/plain": [
       "MultiLabelBinarizer(classes=['P00', 'P1', 'P2', 'P3', 'P4', 'P5', 'P6', 'P7',\n",
       "                             'P8', 'P9', 'P10', 'P11', 'P12', 'P13', 'P14',\n",
       "                             'P15', 'P16', 'P17', 'P18', 'P19', 'P20', 'P21'])"
      ]
     },
     "execution_count": 724,
     "metadata": {},
     "output_type": "execute_result"
    }
   ],
   "source": [
    "mlb_full = MultiLabelBinarizer(classes= prod_list)\n",
    "mlb_full.fit(train['b1_proc'])"
   ]
  },
  {
   "cell_type": "code",
   "execution_count": 725,
   "id": "68ef7826",
   "metadata": {},
   "outputs": [],
   "source": [
    "train = binarize_prod(train, mlb_split)\n",
    "target_enc = binarize_prod(target_proc, mlb_split)"
   ]
  },
  {
   "cell_type": "code",
   "execution_count": 726,
   "id": "68f644cf",
   "metadata": {},
   "outputs": [
    {
     "data": {
      "text/plain": [
       "OneHotEncoder(sparse=False)"
      ]
     },
     "execution_count": 726,
     "metadata": {},
     "output_type": "execute_result"
    }
   ],
   "source": [
    "ohe2 = OneHotEncoder(sparse= False)\n",
    "ohe2.fit(train[cat_cols])"
   ]
  },
  {
   "cell_type": "code",
   "execution_count": 727,
   "id": "eb11f23e",
   "metadata": {},
   "outputs": [],
   "source": [
    "train[encoded_cols] = ohe.transform(train[cat_cols])"
   ]
  },
  {
   "cell_type": "code",
   "execution_count": 728,
   "id": "0be46565",
   "metadata": {},
   "outputs": [],
   "source": [
    "target_reshape = np.concatenate(target_enc, axis= 0).reshape(len(train), 22)\n"
   ]
  },
  {
   "cell_type": "code",
   "execution_count": 729,
   "id": "297b763c",
   "metadata": {},
   "outputs": [],
   "source": [
    "train_b_arr =  (train['b1_enc']).to_numpy()\n",
    "train_reshape = pd.DataFrame(np.concatenate(train_b_arr, axis= 0).reshape(len(train), 22))"
   ]
  },
  {
   "cell_type": "code",
   "execution_count": 730,
   "id": "bfb881fa",
   "metadata": {},
   "outputs": [],
   "source": [
    "forest2 = RandomForestClassifier(random_state=1)\n",
    "train_fin = pd.concat([train[num_cols+encoded_cols],train_reshape], axis= 1)\n",
    "clf2 = MultiOutputClassifier(forest2).fit(train_fin, target_reshape)"
   ]
  },
  {
   "cell_type": "code",
   "execution_count": 812,
   "id": "94a5bfff",
   "metadata": {},
   "outputs": [],
   "source": [
    "tuned_full = MultiOutputClassifier(tuned_rf).fit(train_fin, target_reshape)"
   ]
  },
  {
   "cell_type": "markdown",
   "id": "c7e743ad",
   "metadata": {},
   "source": [
    "### Predict on test"
   ]
  },
  {
   "cell_type": "code",
   "execution_count": 731,
   "id": "c89bcc54",
   "metadata": {},
   "outputs": [],
   "source": [
    "test = pd.read_csv('test.csv')\n",
    "test = std_col_names(test)"
   ]
  },
  {
   "cell_type": "code",
   "execution_count": 734,
   "id": "57d05a5d",
   "metadata": {},
   "outputs": [],
   "source": [
    "test = process_prod(test)\n",
    "# target_proc = process_prod(train['b1'])\n",
    "\n",
    "test = binarize_prod(test, mlb_full)\n",
    "# target_enc = binarize_prod(target_proc, mlb_split)\n",
    "\n",
    "test[encoded_cols] = ohe2.transform(test[cat_cols])\n",
    "\n",
    "test_b_arr =  (test['b1_enc']).to_numpy()\n",
    "test_reshape = pd.DataFrame(np.concatenate(test_b_arr, axis= 0).reshape(len(test), 22))\n",
    "\n",
    "test_fin = pd.concat([test[num_cols+encoded_cols],test_reshape], axis= 1)\n"
   ]
  },
  {
   "cell_type": "code",
   "execution_count": 771,
   "id": "c14144c6",
   "metadata": {},
   "outputs": [],
   "source": [
    "test_preds = clf2.predict(test_fin)\n",
    "\n",
    "out_test = [list(ele) for ele in mlb_full.inverse_transform(test_preds)]\n",
    "\n",
    "pd.DataFrame(list(zip(test['customer_id'], out_test)),columns= ['Customer_ID', 'Product_Holding_B2'], index= None).to_csv('sub1.csv', index= None)"
   ]
  },
  {
   "cell_type": "code",
   "execution_count": 813,
   "id": "b71a33e0",
   "metadata": {},
   "outputs": [],
   "source": [
    "tuned_test_preds = tuned_full.predict(test_fin)\n",
    "\n",
    "out_test = [list(ele) for ele in mlb_full.inverse_transform(tuned_test_preds)]\n",
    "\n",
    "pd.DataFrame(list(zip(test['customer_id'], out_test)),columns= ['Customer_ID', 'Product_Holding_B2'], index= None).to_csv('sub2.csv', index= None)"
   ]
  },
  {
   "cell_type": "code",
   "execution_count": 833,
   "id": "59eadc1a",
   "metadata": {},
   "outputs": [
    {
     "data": {
      "text/plain": [
       "array([[41., 14.,  1.,  0.,  1.,  1.,  0.,  1.,  0.,  0.,  0.,  1.,  0.,\n",
       "         0.,  0.,  0.,  0.,  0.,  0.,  0.,  0.,  0.,  0.,  0.,  0.,  0.,\n",
       "         0.,  0.,  1.,  0.,  0.,  0.,  0.,  0.]])"
      ]
     },
     "execution_count": 833,
     "metadata": {},
     "output_type": "execute_result"
    }
   ],
   "source": [
    "np.array(train_fin.iloc[0]).reshape(1,-1)"
   ]
  },
  {
   "cell_type": "code",
   "execution_count": 860,
   "id": "dfcd8465",
   "metadata": {},
   "outputs": [
    {
     "data": {
      "text/plain": [
       "array([0, 0, 0, 1, 1, 1, 0, 0, 1, 0, 1, 0, 0, 0, 0, 0, 0, 0, 0, 0, 0, 0])"
      ]
     },
     "execution_count": 860,
     "metadata": {},
     "output_type": "execute_result"
    }
   ],
   "source": [
    "tuned_full.predict(test_fin)[0]"
   ]
  },
  {
   "cell_type": "code",
   "execution_count": 823,
   "id": "4175a7e0",
   "metadata": {
    "collapsed": true
   },
   "outputs": [
    {
     "ename": "ValueError",
     "evalue": "Expected 2D array, got 1D array instead:\narray=[0. 0. 0. ... 0. 0. 0.].\nReshape your data either using array.reshape(-1, 1) if your data has a single feature or array.reshape(1, -1) if it contains a single sample.",
     "output_type": "error",
     "traceback": [
      "\u001b[0;31m---------------------------------------------------------------------------\u001b[0m",
      "\u001b[0;31mValueError\u001b[0m                                Traceback (most recent call last)",
      "\u001b[0;32m/tmp/ipykernel_138/832577320.py\u001b[0m in \u001b[0;36m<module>\u001b[0;34m\u001b[0m\n\u001b[0;32m----> 1\u001b[0;31m \u001b[0mtuned_full\u001b[0m\u001b[0;34m.\u001b[0m\u001b[0mpredict_proba\u001b[0m\u001b[0;34m(\u001b[0m\u001b[0mtrain_fin\u001b[0m\u001b[0;34m[\u001b[0m\u001b[0;36m0\u001b[0m\u001b[0;34m]\u001b[0m\u001b[0;34m)\u001b[0m\u001b[0;34m\u001b[0m\u001b[0;34m\u001b[0m\u001b[0m\n\u001b[0m",
      "\u001b[0;32m~/anaconda3/envs/mlcamp/lib/python3.8/site-packages/sklearn/multioutput.py\u001b[0m in \u001b[0;36m_predict_proba\u001b[0;34m(self, X)\u001b[0m\n\u001b[1;32m    403\u001b[0m \u001b[0;34m\u001b[0m\u001b[0m\n\u001b[1;32m    404\u001b[0m     \u001b[0;32mdef\u001b[0m \u001b[0m_predict_proba\u001b[0m\u001b[0;34m(\u001b[0m\u001b[0mself\u001b[0m\u001b[0;34m,\u001b[0m \u001b[0mX\u001b[0m\u001b[0;34m)\u001b[0m\u001b[0;34m:\u001b[0m\u001b[0;34m\u001b[0m\u001b[0;34m\u001b[0m\u001b[0m\n\u001b[0;32m--> 405\u001b[0;31m         results = [estimator.predict_proba(X) for estimator in\n\u001b[0m\u001b[1;32m    406\u001b[0m                    self.estimators_]\n\u001b[1;32m    407\u001b[0m         \u001b[0;32mreturn\u001b[0m \u001b[0mresults\u001b[0m\u001b[0;34m\u001b[0m\u001b[0;34m\u001b[0m\u001b[0m\n",
      "\u001b[0;32m~/anaconda3/envs/mlcamp/lib/python3.8/site-packages/sklearn/multioutput.py\u001b[0m in \u001b[0;36m<listcomp>\u001b[0;34m(.0)\u001b[0m\n\u001b[1;32m    403\u001b[0m \u001b[0;34m\u001b[0m\u001b[0m\n\u001b[1;32m    404\u001b[0m     \u001b[0;32mdef\u001b[0m \u001b[0m_predict_proba\u001b[0m\u001b[0;34m(\u001b[0m\u001b[0mself\u001b[0m\u001b[0;34m,\u001b[0m \u001b[0mX\u001b[0m\u001b[0;34m)\u001b[0m\u001b[0;34m:\u001b[0m\u001b[0;34m\u001b[0m\u001b[0;34m\u001b[0m\u001b[0m\n\u001b[0;32m--> 405\u001b[0;31m         results = [estimator.predict_proba(X) for estimator in\n\u001b[0m\u001b[1;32m    406\u001b[0m                    self.estimators_]\n\u001b[1;32m    407\u001b[0m         \u001b[0;32mreturn\u001b[0m \u001b[0mresults\u001b[0m\u001b[0;34m\u001b[0m\u001b[0;34m\u001b[0m\u001b[0m\n",
      "\u001b[0;32m~/anaconda3/envs/mlcamp/lib/python3.8/site-packages/sklearn/ensemble/_forest.py\u001b[0m in \u001b[0;36mpredict_proba\u001b[0;34m(self, X)\u001b[0m\n\u001b[1;32m    672\u001b[0m         \u001b[0mcheck_is_fitted\u001b[0m\u001b[0;34m(\u001b[0m\u001b[0mself\u001b[0m\u001b[0;34m)\u001b[0m\u001b[0;34m\u001b[0m\u001b[0;34m\u001b[0m\u001b[0m\n\u001b[1;32m    673\u001b[0m         \u001b[0;31m# Check data\u001b[0m\u001b[0;34m\u001b[0m\u001b[0;34m\u001b[0m\u001b[0;34m\u001b[0m\u001b[0m\n\u001b[0;32m--> 674\u001b[0;31m         \u001b[0mX\u001b[0m \u001b[0;34m=\u001b[0m \u001b[0mself\u001b[0m\u001b[0;34m.\u001b[0m\u001b[0m_validate_X_predict\u001b[0m\u001b[0;34m(\u001b[0m\u001b[0mX\u001b[0m\u001b[0;34m)\u001b[0m\u001b[0;34m\u001b[0m\u001b[0;34m\u001b[0m\u001b[0m\n\u001b[0m\u001b[1;32m    675\u001b[0m \u001b[0;34m\u001b[0m\u001b[0m\n\u001b[1;32m    676\u001b[0m         \u001b[0;31m# Assign chunk of trees to jobs\u001b[0m\u001b[0;34m\u001b[0m\u001b[0;34m\u001b[0m\u001b[0;34m\u001b[0m\u001b[0m\n",
      "\u001b[0;32m~/anaconda3/envs/mlcamp/lib/python3.8/site-packages/sklearn/ensemble/_forest.py\u001b[0m in \u001b[0;36m_validate_X_predict\u001b[0;34m(self, X)\u001b[0m\n\u001b[1;32m    420\u001b[0m         \u001b[0mcheck_is_fitted\u001b[0m\u001b[0;34m(\u001b[0m\u001b[0mself\u001b[0m\u001b[0;34m)\u001b[0m\u001b[0;34m\u001b[0m\u001b[0;34m\u001b[0m\u001b[0m\n\u001b[1;32m    421\u001b[0m \u001b[0;34m\u001b[0m\u001b[0m\n\u001b[0;32m--> 422\u001b[0;31m         \u001b[0;32mreturn\u001b[0m \u001b[0mself\u001b[0m\u001b[0;34m.\u001b[0m\u001b[0mestimators_\u001b[0m\u001b[0;34m[\u001b[0m\u001b[0;36m0\u001b[0m\u001b[0;34m]\u001b[0m\u001b[0;34m.\u001b[0m\u001b[0m_validate_X_predict\u001b[0m\u001b[0;34m(\u001b[0m\u001b[0mX\u001b[0m\u001b[0;34m,\u001b[0m \u001b[0mcheck_input\u001b[0m\u001b[0;34m=\u001b[0m\u001b[0;32mTrue\u001b[0m\u001b[0;34m)\u001b[0m\u001b[0;34m\u001b[0m\u001b[0;34m\u001b[0m\u001b[0m\n\u001b[0m\u001b[1;32m    423\u001b[0m \u001b[0;34m\u001b[0m\u001b[0m\n\u001b[1;32m    424\u001b[0m     \u001b[0;34m@\u001b[0m\u001b[0mproperty\u001b[0m\u001b[0;34m\u001b[0m\u001b[0;34m\u001b[0m\u001b[0m\n",
      "\u001b[0;32m~/anaconda3/envs/mlcamp/lib/python3.8/site-packages/sklearn/tree/_classes.py\u001b[0m in \u001b[0;36m_validate_X_predict\u001b[0;34m(self, X, check_input)\u001b[0m\n\u001b[1;32m    405\u001b[0m         \u001b[0;34m\"\"\"Validate the training data on predict (probabilities).\"\"\"\u001b[0m\u001b[0;34m\u001b[0m\u001b[0;34m\u001b[0m\u001b[0m\n\u001b[1;32m    406\u001b[0m         \u001b[0;32mif\u001b[0m \u001b[0mcheck_input\u001b[0m\u001b[0;34m:\u001b[0m\u001b[0;34m\u001b[0m\u001b[0;34m\u001b[0m\u001b[0m\n\u001b[0;32m--> 407\u001b[0;31m             X = self._validate_data(X, dtype=DTYPE, accept_sparse=\"csr\",\n\u001b[0m\u001b[1;32m    408\u001b[0m                                     reset=False)\n\u001b[1;32m    409\u001b[0m             if issparse(X) and (X.indices.dtype != np.intc or\n",
      "\u001b[0;32m~/anaconda3/envs/mlcamp/lib/python3.8/site-packages/sklearn/base.py\u001b[0m in \u001b[0;36m_validate_data\u001b[0;34m(self, X, y, reset, validate_separately, **check_params)\u001b[0m\n\u001b[1;32m    419\u001b[0m             \u001b[0mout\u001b[0m \u001b[0;34m=\u001b[0m \u001b[0mX\u001b[0m\u001b[0;34m\u001b[0m\u001b[0;34m\u001b[0m\u001b[0m\n\u001b[1;32m    420\u001b[0m         \u001b[0;32melif\u001b[0m \u001b[0misinstance\u001b[0m\u001b[0;34m(\u001b[0m\u001b[0my\u001b[0m\u001b[0;34m,\u001b[0m \u001b[0mstr\u001b[0m\u001b[0;34m)\u001b[0m \u001b[0;32mand\u001b[0m \u001b[0my\u001b[0m \u001b[0;34m==\u001b[0m \u001b[0;34m'no_validation'\u001b[0m\u001b[0;34m:\u001b[0m\u001b[0;34m\u001b[0m\u001b[0;34m\u001b[0m\u001b[0m\n\u001b[0;32m--> 421\u001b[0;31m             \u001b[0mX\u001b[0m \u001b[0;34m=\u001b[0m \u001b[0mcheck_array\u001b[0m\u001b[0;34m(\u001b[0m\u001b[0mX\u001b[0m\u001b[0;34m,\u001b[0m \u001b[0;34m**\u001b[0m\u001b[0mcheck_params\u001b[0m\u001b[0;34m)\u001b[0m\u001b[0;34m\u001b[0m\u001b[0;34m\u001b[0m\u001b[0m\n\u001b[0m\u001b[1;32m    422\u001b[0m             \u001b[0mout\u001b[0m \u001b[0;34m=\u001b[0m \u001b[0mX\u001b[0m\u001b[0;34m\u001b[0m\u001b[0;34m\u001b[0m\u001b[0m\n\u001b[1;32m    423\u001b[0m         \u001b[0;32melse\u001b[0m\u001b[0;34m:\u001b[0m\u001b[0;34m\u001b[0m\u001b[0;34m\u001b[0m\u001b[0m\n",
      "\u001b[0;32m~/anaconda3/envs/mlcamp/lib/python3.8/site-packages/sklearn/utils/validation.py\u001b[0m in \u001b[0;36minner_f\u001b[0;34m(*args, **kwargs)\u001b[0m\n\u001b[1;32m     61\u001b[0m             \u001b[0mextra_args\u001b[0m \u001b[0;34m=\u001b[0m \u001b[0mlen\u001b[0m\u001b[0;34m(\u001b[0m\u001b[0margs\u001b[0m\u001b[0;34m)\u001b[0m \u001b[0;34m-\u001b[0m \u001b[0mlen\u001b[0m\u001b[0;34m(\u001b[0m\u001b[0mall_args\u001b[0m\u001b[0;34m)\u001b[0m\u001b[0;34m\u001b[0m\u001b[0;34m\u001b[0m\u001b[0m\n\u001b[1;32m     62\u001b[0m             \u001b[0;32mif\u001b[0m \u001b[0mextra_args\u001b[0m \u001b[0;34m<=\u001b[0m \u001b[0;36m0\u001b[0m\u001b[0;34m:\u001b[0m\u001b[0;34m\u001b[0m\u001b[0;34m\u001b[0m\u001b[0m\n\u001b[0;32m---> 63\u001b[0;31m                 \u001b[0;32mreturn\u001b[0m \u001b[0mf\u001b[0m\u001b[0;34m(\u001b[0m\u001b[0;34m*\u001b[0m\u001b[0margs\u001b[0m\u001b[0;34m,\u001b[0m \u001b[0;34m**\u001b[0m\u001b[0mkwargs\u001b[0m\u001b[0;34m)\u001b[0m\u001b[0;34m\u001b[0m\u001b[0;34m\u001b[0m\u001b[0m\n\u001b[0m\u001b[1;32m     64\u001b[0m \u001b[0;34m\u001b[0m\u001b[0m\n\u001b[1;32m     65\u001b[0m             \u001b[0;31m# extra_args > 0\u001b[0m\u001b[0;34m\u001b[0m\u001b[0;34m\u001b[0m\u001b[0;34m\u001b[0m\u001b[0m\n",
      "\u001b[0;32m~/anaconda3/envs/mlcamp/lib/python3.8/site-packages/sklearn/utils/validation.py\u001b[0m in \u001b[0;36mcheck_array\u001b[0;34m(array, accept_sparse, accept_large_sparse, dtype, order, copy, force_all_finite, ensure_2d, allow_nd, ensure_min_samples, ensure_min_features, estimator)\u001b[0m\n\u001b[1;32m    692\u001b[0m             \u001b[0;31m# If input is 1D raise error\u001b[0m\u001b[0;34m\u001b[0m\u001b[0;34m\u001b[0m\u001b[0;34m\u001b[0m\u001b[0m\n\u001b[1;32m    693\u001b[0m             \u001b[0;32mif\u001b[0m \u001b[0marray\u001b[0m\u001b[0;34m.\u001b[0m\u001b[0mndim\u001b[0m \u001b[0;34m==\u001b[0m \u001b[0;36m1\u001b[0m\u001b[0;34m:\u001b[0m\u001b[0;34m\u001b[0m\u001b[0;34m\u001b[0m\u001b[0m\n\u001b[0;32m--> 694\u001b[0;31m                 raise ValueError(\n\u001b[0m\u001b[1;32m    695\u001b[0m                     \u001b[0;34m\"Expected 2D array, got 1D array instead:\\narray={}.\\n\"\u001b[0m\u001b[0;34m\u001b[0m\u001b[0;34m\u001b[0m\u001b[0m\n\u001b[1;32m    696\u001b[0m                     \u001b[0;34m\"Reshape your data either using array.reshape(-1, 1) if \"\u001b[0m\u001b[0;34m\u001b[0m\u001b[0;34m\u001b[0m\u001b[0m\n",
      "\u001b[0;31mValueError\u001b[0m: Expected 2D array, got 1D array instead:\narray=[0. 0. 0. ... 0. 0. 0.].\nReshape your data either using array.reshape(-1, 1) if your data has a single feature or array.reshape(1, -1) if it contains a single sample."
     ]
    }
   ],
   "source": [
    "tuned_full.predict_proba()"
   ]
  },
  {
   "cell_type": "code",
   "execution_count": 835,
   "id": "b0cd0eee",
   "metadata": {},
   "outputs": [
    {
     "data": {
      "text/plain": [
       "array([0, 0, 0, 0, 0, 0, 0, 0, 1, 0, 0, 0, 0, 0, 0, 0, 0, 0, 0, 0, 0, 0])"
      ]
     },
     "execution_count": 835,
     "metadata": {},
     "output_type": "execute_result"
    }
   ],
   "source": [
    "target_reshape[0]"
   ]
  },
  {
   "cell_type": "markdown",
   "id": "a7554fad",
   "metadata": {},
   "source": [
    "### Extracting results"
   ]
  },
  {
   "cell_type": "code",
   "execution_count": 861,
   "id": "a2bea335",
   "metadata": {},
   "outputs": [],
   "source": [
    "import joblib\n",
    "\n",
    "joblib.dump()"
   ]
  },
  {
   "cell_type": "code",
   "execution_count": 146,
   "id": "aa789159",
   "metadata": {},
   "outputs": [],
   "source": [
    "b2_out = df['b2_enc'].apply(lambda x: list(mlb.inverse_transform(x)[0]))\n",
    "b1_out = df['b1_enc'].apply(lambda x: list(mlb.inverse_transform(x)[0]))"
   ]
  },
  {
   "cell_type": "code",
   "execution_count": 145,
   "id": "6e090d8c",
   "metadata": {},
   "outputs": [],
   "source": [
    "b2_out.to_csv('b2.csv')"
   ]
  },
  {
   "cell_type": "code",
   "execution_count": 128,
   "id": "8d64d40a",
   "metadata": {},
   "outputs": [
    {
     "data": {
      "text/plain": [
       "['P16']"
      ]
     },
     "execution_count": 128,
     "metadata": {},
     "output_type": "execute_result"
    }
   ],
   "source": [
    "list(b1_out[0][0])"
   ]
  },
  {
   "cell_type": "code",
   "execution_count": 142,
   "id": "4af371db",
   "metadata": {},
   "outputs": [
    {
     "data": {
      "text/plain": [
       "0                 [(P16,)]\n",
       "1             [(P13, P20)]\n",
       "2                 [(P11,)]\n",
       "3              [(P13, P8)]\n",
       "4        [(P16, P17, P21)]\n",
       "               ...        \n",
       "37743             [(P16,)]\n",
       "37744    [(P16, P17, P21)]\n",
       "37745             [(P14,)]\n",
       "37746         [(P12, P13)]\n",
       "37747         [(P16, P17)]\n",
       "Name: b1_enc, Length: 37748, dtype: object"
      ]
     },
     "execution_count": 142,
     "metadata": {},
     "output_type": "execute_result"
    }
   ],
   "source": [
    "b1_out"
   ]
  },
  {
   "cell_type": "code",
   "execution_count": null,
   "id": "4c5741af",
   "metadata": {},
   "outputs": [],
   "source": []
  }
 ],
 "metadata": {
  "kernelspec": {
   "display_name": "Python 3 (ipykernel)",
   "language": "python",
   "name": "python3"
  },
  "language_info": {
   "codemirror_mode": {
    "name": "ipython",
    "version": 3
   },
   "file_extension": ".py",
   "mimetype": "text/x-python",
   "name": "python",
   "nbconvert_exporter": "python",
   "pygments_lexer": "ipython3",
   "version": "3.8.11"
  }
 },
 "nbformat": 4,
 "nbformat_minor": 5
}
